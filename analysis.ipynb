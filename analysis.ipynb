{
 "cells": [
  {
   "cell_type": "code",
   "execution_count": 1,
   "metadata": {},
   "outputs": [
    {
     "data": {
      "text/html": [
       "\n",
       "                <script type=\"application/javascript\" id=\"jupyter_black\">\n",
       "                (function() {\n",
       "                    if (window.IPython === undefined) {\n",
       "                        return\n",
       "                    }\n",
       "                    var msg = \"WARNING: it looks like you might have loaded \" +\n",
       "                        \"jupyter_black in a non-lab notebook with \" +\n",
       "                        \"`is_lab=True`. Please double check, and if \" +\n",
       "                        \"loading with `%load_ext` please review the README!\"\n",
       "                    console.log(msg)\n",
       "                    alert(msg)\n",
       "                })()\n",
       "                </script>\n",
       "                "
      ],
      "text/plain": [
       "<IPython.core.display.HTML object>"
      ]
     },
     "metadata": {},
     "output_type": "display_data"
    }
   ],
   "source": [
    "%load_ext jupyter_black"
   ]
  },
  {
   "cell_type": "code",
   "execution_count": 2,
   "metadata": {},
   "outputs": [],
   "source": [
    "import duckdb\n",
    "import editdistance\n",
    "import polars as pl\n",
    "from tldextract import extract"
   ]
  },
  {
   "cell_type": "markdown",
   "metadata": {},
   "source": [
    "Preview input"
   ]
  },
  {
   "cell_type": "code",
   "execution_count": 3,
   "metadata": {},
   "outputs": [
    {
     "name": "stdout",
     "output_type": "stream",
     "text": [
      "\u001b[1;39m{\n",
      "  \u001b[0m\u001b[34;1m\"data\"\u001b[0m\u001b[1;39m: \u001b[0m\u001b[1;39m{\n",
      "    \u001b[0m\u001b[34;1m\"cert_index\"\u001b[0m\u001b[1;39m: \u001b[0m\u001b[0;39m693605056\u001b[0m\u001b[1;39m,\n",
      "    \u001b[0m\u001b[34;1m\"cert_link\"\u001b[0m\u001b[1;39m: \u001b[0m\u001b[0;32m\"http://ct.googleapis.com/logs/argon2019/ct/v1/get-entries?start=693605056&end=693605056\"\u001b[0m\u001b[1;39m,\n",
      "    \u001b[0m\u001b[34;1m\"chain\"\u001b[0m\u001b[1;39m: \u001b[0m\u001b[1;39m[\n",
      "      \u001b[1;39m{\n",
      "        \u001b[0m\u001b[34;1m\"as_der\"\u001b[0m\u001b[1;39m: \u001b[0m\u001b[0;32m\"MIIEkjCCA3qgAwIBAgIQCgFBQgAAAVOFc2oLheynCDANBgkqhkiG9w0BAQsFADA/MSQwIgYDVQQKExtEaWdpdGFsIFNpZ25hdHVyZSBUcnVzdCBDby4xFzAVBgNVBAMTDkRTVCBSb290IENBIFgzMB4XDTE2MDMxNzE2NDA0NloXDTIxMDMxNzE2NDA0NlowSjELMAkGA1UEBhMCVVMxFjAUBgNVBAoTDUxldCdzIEVuY3J5cHQxIzAhBgNVBAMTGkxldCdzIEVuY3J5cHQgQXV0aG9yaXR5IFgzMIIBIjANBgkqhkiG9w0BAQEFAAOCAQ8AMIIBCgKCAQEAnNMM8FrlLke3cl03g7NoYzDq1zUmGSXhvb418XCSL7e4S0EFq6meNQhY7LEqxGiHC6PjdeTm86dicbp5gWAf15Gan/PQeGdxyGkOlZHP/uaZ6WA8SMx+yk13EiSdRxta67nsHjcAHJyse6cF6s5K671B5TaYucv9bTyWaN8jKkKQDIZ0Z8h/pZq4UmEUEz9l6YKHy9v6Dlb2honzhT+Xhq+w3Brvaw2VFn3EK6BlspkENnWAa6xK8xuQSXgvopZPKiAlKQTGdMDQMc2PMTiVFrqoM7hD8bEfwzB/onkxEz0tNvjj/PIzark5McWvxI0NHWQWM6r6hCm21AvA2H3DkwIDAQABo4IBfTCCAXkwEgYDVR0TAQH/BAgwBgEB/wIBADAOBgNVHQ8BAf8EBAMCAYYwfwYIKwYBBQUHAQEEczBxMDIGCCsGAQUFBzABhiZodHRwOi8vaXNyZy50cnVzdGlkLm9jc3AuaWRlbnRydXN0LmNvbTA7BggrBgEFBQcwAoYvaHR0cDovL2FwcHMuaWRlbnRydXN0LmNvbS9yb290cy9kc3Ryb290Y2F4My5wN2MwHwYDVR0jBBgwFoAUxKexpHsscfrb4UuQdf/EFWCFiRAwVAYDVR0gBE0wSzAIBgZngQwBAgEwPwYLKwYBBAGC3xMBAQEwMDAuBggrBgEFBQcCARYiaHR0cDovL2Nwcy5yb290LXgxLmxldHNlbmNyeXB0Lm9yZzA8BgNVHR8ENTAzMDGgL6AthitodHRwOi8vY3JsLmlkZW50cnVzdC5jb20vRFNUUk9PVENBWDNDUkwuY3JsMB0GA1UdDgQWBBSoSmpjBH3duubRObemRWXv86jsoTANBgkqhkiG9w0BAQsFAAOCAQEA3TPXEfNjWDjdGBX7CVW+dla5cEilaUcne8IkCJLxWh9KEik3JHRRHGJouM2VcGfl96S8TihRzZvoroed6ti6WqEBmtzw3Wodatg+VyOeph4EYpr/1wXKtx8/wApIvJSwtmVi4MFU5aMqrSDE6ea73Mj2tcMyo5jMd6jmeWUHK8so/joWUoHOUgwuX4Po1QYz+3dszkDqMp4fklxBwXRsW10KXzPMTZ+sOPAveyxindmjkW8lGy+QsRlGPfZ+G6Z6h7mjem0Y+iWlkYcV4PIWL1iwBi8saCbGS5jN2p8M+X+Q7UNKEkROb3N6KOqkqm57TH2H3eDJAkSnh6/DNFu0Qg==\"\u001b[0m\u001b[1;39m,\n",
      "        \u001b[0m\u001b[34;1m\"extensions\"\u001b[0m\u001b[1;39m: \u001b[0m\u001b[1;39m{\n",
      "          \u001b[0m\u001b[34;1m\"authorityInfoAccess\"\u001b[0m\u001b[1;39m: \u001b[0m\u001b[0;32m\"CA Issuers - URI:http://apps.identrust.com/roots/dstrootcax3.p7c\\nOCSP - URI:http://isrg.trustid.ocsp.identrust.com\\n\"\u001b[0m\u001b[1;39m,\n",
      "          \u001b[0m\u001b[34;1m\"authorityKeyIdentifier\"\u001b[0m\u001b[1;39m: \u001b[0m\u001b[0;32m\"keyid:C4:A7:B1:A4:7B:2C:71:FA:DB:E1:4B:90:75:FF:C4:15:60:85:89:10\\n\"\u001b[0m\u001b[1;39m,\n",
      "          \u001b[0m\u001b[34;1m\"basicConstraints\"\u001b[0m\u001b[1;39m: \u001b[0m\u001b[0;32m\"CA:TRUE\"\u001b[0m\u001b[1;39m,\n",
      "          \u001b[0m\u001b[34;1m\"certificatePolicies\"\u001b[0m\u001b[1;39m: \u001b[0m\u001b[0;32m\"Policy: 1.3.6.1.4.1.44947.1.1.1\\n  CPS: http://cps.root-x1.letsencrypt.org\"\u001b[0m\u001b[1;39m,\n",
      "          \u001b[0m\u001b[34;1m\"crlDistributionPoints\"\u001b[0m\u001b[1;39m: \u001b[0m\u001b[0;32m\"Full Name:\\n URI:http://crl.identrust.com/DSTROOTCAX3CRL.crl\"\u001b[0m\u001b[1;39m,\n",
      "          \u001b[0m\u001b[34;1m\"keyUsage\"\u001b[0m\u001b[1;39m: \u001b[0m\u001b[0;32m\"Digital Signature, Key Cert Sign, C R L Sign\"\u001b[0m\u001b[1;39m,\n",
      "          \u001b[0m\u001b[34;1m\"subjectKeyIdentifier\"\u001b[0m\u001b[1;39m: \u001b[0m\u001b[0;32m\"A8:4A:6A:63:04:7D:DD:BA:E6:D1:39:B7:A6:45:65:EF:F3:A8:EC:A1\"\u001b[0m\u001b[1;39m\n",
      "        \u001b[1;39m}\u001b[0m\u001b[1;39m,\n",
      "        \u001b[0m\u001b[34;1m\"fingerprint\"\u001b[0m\u001b[1;39m: \u001b[0m\u001b[0;32m\"E6:A3:B4:5B:06:2D:50:9B:33:82:28:2D:19:6E:FE:97:D5:95:6C:CB\"\u001b[0m\u001b[1;39m,\n",
      "        \u001b[0m\u001b[34;1m\"not_after\"\u001b[0m\u001b[1;39m: \u001b[0m\u001b[0;39m1615999246\u001b[0m\u001b[1;39m,\n",
      "        \u001b[0m\u001b[34;1m\"not_before\"\u001b[0m\u001b[1;39m: \u001b[0m\u001b[0;39m1458232846\u001b[0m\u001b[1;39m,\n",
      "        \u001b[0m\u001b[34;1m\"serial_number\"\u001b[0m\u001b[1;39m: \u001b[0m\u001b[0;32m\"A0141420000015385736A0B85ECA708\"\u001b[0m\u001b[1;39m,\n",
      "        \u001b[0m\u001b[34;1m\"subject\"\u001b[0m\u001b[1;39m: \u001b[0m\u001b[1;39m{\n",
      "          \u001b[0m\u001b[34;1m\"C\"\u001b[0m\u001b[1;39m: \u001b[0m\u001b[0;32m\"US\"\u001b[0m\u001b[1;39m,\n",
      "          \u001b[0m\u001b[34;1m\"CN\"\u001b[0m\u001b[1;39m: \u001b[0m\u001b[0;32m\"Let's Encrypt Authority X3\"\u001b[0m\u001b[1;39m,\n",
      "          \u001b[0m\u001b[34;1m\"L\"\u001b[0m\u001b[1;39m: \u001b[0m\u001b[1;30mnull\u001b[0m\u001b[1;39m,\n",
      "          \u001b[0m\u001b[34;1m\"O\"\u001b[0m\u001b[1;39m: \u001b[0m\u001b[0;32m\"Let's Encrypt\"\u001b[0m\u001b[1;39m,\n",
      "          \u001b[0m\u001b[34;1m\"OU\"\u001b[0m\u001b[1;39m: \u001b[0m\u001b[1;30mnull\u001b[0m\u001b[1;39m,\n",
      "          \u001b[0m\u001b[34;1m\"ST\"\u001b[0m\u001b[1;39m: \u001b[0m\u001b[1;30mnull\u001b[0m\u001b[1;39m,\n",
      "          \u001b[0m\u001b[34;1m\"aggregated\"\u001b[0m\u001b[1;39m: \u001b[0m\u001b[0;32m\"/C=US/CN=Let's Encrypt Authority X3/O=Let's Encrypt\"\u001b[0m\u001b[1;39m\n",
      "        \u001b[1;39m}\u001b[0m\u001b[1;39m\n",
      "      \u001b[1;39m}\u001b[0m\u001b[1;39m,\n",
      "      \u001b[1;39m{\n",
      "        \u001b[0m\u001b[34;1m\"as_der\"\u001b[0m\u001b[1;39m: \u001b[0m\u001b[0;32m\"MIIDSjCCAjKgAwIBAgIQRK+wgNajJ7qJMDmGLvhAazANBgkqhkiG9w0BAQUFADA/MSQwIgYDVQQKExtEaWdpdGFsIFNpZ25hdHVyZSBUcnVzdCBDby4xFzAVBgNVBAMTDkRTVCBSb290IENBIFgzMB4XDTAwMDkzMDIxMTIxOVoXDTIxMDkzMDE0MDExNVowPzEkMCIGA1UEChMbRGlnaXRhbCBTaWduYXR1cmUgVHJ1c3QgQ28uMRcwFQYDVQQDEw5EU1QgUm9vdCBDQSBYMzCCASIwDQYJKoZIhvcNAQEBBQADggEPADCCAQoCggEBAN+v6ZdQCINXtMxiZfaQguzH0yxrMMpb7NnDfcdAwRgUi+DoM3ZJKuM/IUmTrE4Orz5Iy2Xu/NMhD2XSKtkyj4zl93ewEnu1lcCJo6m67XMuegwGMoOifooUMM0RoOEqOLl5CjH9UL2AZd+3UWODyOKIYepLYYHsUmu5ouJLGiifSKOeDNoJjj4XLh7dIN9bxiqKqy69cK3FCxolkHRyxXtqqzTWMIn/5WgTe1QLyNau7Fqckh49ZLOMxt+/yUFw7BZy1SbsOFU5Q9D8/RhcQPGX69Wam40dutolucbY38EVAjqr2m7xPi71XAicPNaDaeQQmxkqtilX4+U9m5/wAl0CAwEAAaNCMEAwDwYDVR0TAQH/BAUwAwEB/zAOBgNVHQ8BAf8EBAMCAQYwHQYDVR0OBBYEFMSnsaR7LHH62+FLkHX/xBVghYkQMA0GCSqGSIb3DQEBBQUAA4IBAQCjGiybFwBcqR7uKGY3Or+Dxz9LwwmglSBd49lZRNI+DT69ikugdB/OEIKcdBodfpga3csTS7MgROSR6cz8faXbauX+5v3gTt23ADq1cEmv8uXrAvHRAosZy5Q6XkjEGB5YGV8eAlrwDPGxrancWYaLbumR9YbK+rlmM6pZW87ipxZzR8srzJmwN0jP41ZL9c8PDHIyh8bwRLtTcm1D9SZImlJnt1ir/md2cXjbDaJWFBM5JDGFoqgCWjBH4d1QB7wCCZAA62RjYJsWvIjJEubSfZGL+T0yjWW06XyxV3bqxbYoOb8VZRzI9neWagqNdwvYkQsEjgfbKbYK7p2CNTUQ\"\u001b[0m\u001b[1;39m,\n",
      "        \u001b[0m\u001b[34;1m\"extensions\"\u001b[0m\u001b[1;39m: \u001b[0m\u001b[1;39m{\n",
      "          \u001b[0m\u001b[34;1m\"basicConstraints\"\u001b[0m\u001b[1;39m: \u001b[0m\u001b[0;32m\"CA:TRUE\"\u001b[0m\u001b[1;39m,\n",
      "          \u001b[0m\u001b[34;1m\"keyUsage\"\u001b[0m\u001b[1;39m: \u001b[0m\u001b[0;32m\"Key Cert Sign, C R L Sign\"\u001b[0m\u001b[1;39m,\n",
      "          \u001b[0m\u001b[34;1m\"subjectKeyIdentifier\"\u001b[0m\u001b[1;39m: \u001b[0m\u001b[0;32m\"C4:A7:B1:A4:7B:2C:71:FA:DB:E1:4B:90:75:FF:C4:15:60:85:89:10\"\u001b[0m\u001b[1;39m\n",
      "        \u001b[1;39m}\u001b[0m\u001b[1;39m,\n",
      "        \u001b[0m\u001b[34;1m\"fingerprint\"\u001b[0m\u001b[1;39m: \u001b[0m\u001b[0;32m\"DA:C9:02:4F:54:D8:F6:DF:94:93:5F:B1:73:26:38:CA:6A:D7:7C:13\"\u001b[0m\u001b[1;39m,\n",
      "        \u001b[0m\u001b[34;1m\"not_after\"\u001b[0m\u001b[1;39m: \u001b[0m\u001b[0;39m1633010475\u001b[0m\u001b[1;39m,\n",
      "        \u001b[0m\u001b[34;1m\"not_before\"\u001b[0m\u001b[1;39m: \u001b[0m\u001b[0;39m970348339\u001b[0m\u001b[1;39m,\n",
      "        \u001b[0m\u001b[34;1m\"serial_number\"\u001b[0m\u001b[1;39m: \u001b[0m\u001b[0;32m\"44AFB080D6A327BA893039862EF8406B\"\u001b[0m\u001b[1;39m,\n",
      "        \u001b[0m\u001b[34;1m\"subject\"\u001b[0m\u001b[1;39m: \u001b[0m\u001b[1;39m{\n",
      "          \u001b[0m\u001b[34;1m\"C\"\u001b[0m\u001b[1;39m: \u001b[0m\u001b[1;30mnull\u001b[0m\u001b[1;39m,\n",
      "          \u001b[0m\u001b[34;1m\"CN\"\u001b[0m\u001b[1;39m: \u001b[0m\u001b[0;32m\"DST Root CA X3\"\u001b[0m\u001b[1;39m,\n",
      "          \u001b[0m\u001b[34;1m\"L\"\u001b[0m\u001b[1;39m: \u001b[0m\u001b[1;30mnull\u001b[0m\u001b[1;39m,\n",
      "          \u001b[0m\u001b[34;1m\"O\"\u001b[0m\u001b[1;39m: \u001b[0m\u001b[0;32m\"Digital Signature Trust Co.\"\u001b[0m\u001b[1;39m,\n",
      "          \u001b[0m\u001b[34;1m\"OU\"\u001b[0m\u001b[1;39m: \u001b[0m\u001b[1;30mnull\u001b[0m\u001b[1;39m,\n",
      "          \u001b[0m\u001b[34;1m\"ST\"\u001b[0m\u001b[1;39m: \u001b[0m\u001b[1;30mnull\u001b[0m\u001b[1;39m,\n",
      "          \u001b[0m\u001b[34;1m\"aggregated\"\u001b[0m\u001b[1;39m: \u001b[0m\u001b[0;32m\"/CN=DST Root CA X3/O=Digital Signature Trust Co.\"\u001b[0m\u001b[1;39m\n",
      "        \u001b[1;39m}\u001b[0m\u001b[1;39m\n",
      "      \u001b[1;39m}\u001b[0m\u001b[1;39m\n",
      "    \u001b[1;39m]\u001b[0m\u001b[1;39m,\n",
      "    \u001b[0m\u001b[34;1m\"leaf_cert\"\u001b[0m\u001b[1;39m: \u001b[0m\u001b[1;39m{\n",
      "      \u001b[0m\u001b[34;1m\"all_domains\"\u001b[0m\u001b[1;39m: \u001b[0m\u001b[1;39m[\n",
      "        \u001b[0;32m\"autodiscover.chilipines.com\"\u001b[0m\u001b[1;39m,\n",
      "        \u001b[0;32m\"chilipines.azpeitia.mx\"\u001b[0m\u001b[1;39m,\n",
      "        \u001b[0;32m\"chilipines.com\"\u001b[0m\u001b[1;39m,\n",
      "        \u001b[0;32m\"cpanel.chilipines.com\"\u001b[0m\u001b[1;39m,\n",
      "        \u001b[0;32m\"mail.chilipines.com\"\u001b[0m\u001b[1;39m,\n",
      "        \u001b[0;32m\"mudanzasperez.azpeitia.mx\"\u001b[0m\u001b[1;39m,\n",
      "        \u001b[0;32m\"webdisk.chilipines.com\"\u001b[0m\u001b[1;39m,\n",
      "        \u001b[0;32m\"webmail.chilipines.com\"\u001b[0m\u001b[1;39m,\n",
      "        \u001b[0;32m\"www.chilipines.azpeitia.mx\"\u001b[0m\u001b[1;39m,\n",
      "        \u001b[0;32m\"www.chilipines.com\"\u001b[0m\u001b[1;39m,\n",
      "        \u001b[0;32m\"www.mudanzasperez.azpeitia.mx\"\u001b[0m\u001b[1;39m\n",
      "      \u001b[1;39m]\u001b[0m\u001b[1;39m,\n",
      "      \u001b[0m\u001b[34;1m\"as_der\"\u001b[0m\u001b[1;39m: \u001b[0m\u001b[0;32m\"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\"\u001b[0m\u001b[1;39m,\n",
      "      \u001b[0m\u001b[34;1m\"extensions\"\u001b[0m\u001b[1;39m: \u001b[0m\u001b[1;39m{\n",
      "        \u001b[0m\u001b[34;1m\"authorityInfoAccess\"\u001b[0m\u001b[1;39m: \u001b[0m\u001b[0;32m\"CA Issuers - URI:http://cert.int-x3.letsencrypt.org/\\nOCSP - URI:http://ocsp.int-x3.letsencrypt.org\\n\"\u001b[0m\u001b[1;39m,\n",
      "        \u001b[0m\u001b[34;1m\"authorityKeyIdentifier\"\u001b[0m\u001b[1;39m: \u001b[0m\u001b[0;32m\"keyid:A8:4A:6A:63:04:7D:DD:BA:E6:D1:39:B7:A6:45:65:EF:F3:A8:EC:A1\\n\"\u001b[0m\u001b[1;39m,\n",
      "        \u001b[0m\u001b[34;1m\"basicConstraints\"\u001b[0m\u001b[1;39m: \u001b[0m\u001b[0;32m\"CA:FALSE\"\u001b[0m\u001b[1;39m,\n",
      "        \u001b[0m\u001b[34;1m\"certificatePolicies\"\u001b[0m\u001b[1;39m: \u001b[0m\u001b[0;32m\"Policy: 1.3.6.1.4.1.44947.1.1.1\\n  CPS: http://cps.letsencrypt.org\"\u001b[0m\u001b[1;39m,\n",
      "        \u001b[0m\u001b[34;1m\"ctlSignedCertificateTimestamp\"\u001b[0m\u001b[1;39m: \u001b[0m\u001b[0;32m\"BIHzAPEAdgBvU3asMfAxGdiZAKRRFf93FRwR2QLBACkGjbIImjfZEwAAAWx94FmHAAAEAwBHMEUCIQCC8Mzu5u_fnrrqF1dy-y8UeY1HtGoCYb3Zx5vGGegpewIgAxh34Gl6NyE-kOQJ4ZFn7CwfahRmB2zxMG9t2XOM4HUAdwApPFGWVMg5ZbqqUPxYB9S3b79Yeily3KTDDPTlRUf0eAAAAWx94FltAAAEAwBIMEYCIQCI6zhXcUr154yCXQEp4iHA3nnLQPiJaeUia5gF0Vz5AQIhAO3JD4KC0zMd4DHNIEfJM0gJIt9yQYwextXtL0JBFFOW\"\u001b[0m\u001b[1;39m,\n",
      "        \u001b[0m\u001b[34;1m\"extendedKeyUsage\"\u001b[0m\u001b[1;39m: \u001b[0m\u001b[0;32m\"TLS Web server authentication, TLS Web client authentication\"\u001b[0m\u001b[1;39m,\n",
      "        \u001b[0m\u001b[34;1m\"keyUsage\"\u001b[0m\u001b[1;39m: \u001b[0m\u001b[0;32m\"Digital Signature, Key Encipherment\"\u001b[0m\u001b[1;39m,\n",
      "        \u001b[0m\u001b[34;1m\"subjectAltName\"\u001b[0m\u001b[1;39m: \u001b[0m\u001b[0;32m\"DNS:www.mudanzasperez.azpeitia.mx, DNS:www.chilipines.com, DNS:www.chilipines.azpeitia.mx, DNS:webmail.chilipines.com, DNS:webdisk.chilipines.com, DNS:mudanzasperez.azpeitia.mx, DNS:mail.chilipines.com, DNS:cpanel.chilipines.com, DNS:chilipines.com, DNS:chilipines.azpeitia.mx, DNS:autodiscover.chilipines.com\"\u001b[0m\u001b[1;39m,\n",
      "        \u001b[0m\u001b[34;1m\"subjectKeyIdentifier\"\u001b[0m\u001b[1;39m: \u001b[0m\u001b[0;32m\"B6:F7:EA:BB:9C:E7:0F:80:65:CB:4D:29:55:70:50:C9:C4:F2:BD:14\"\u001b[0m\u001b[1;39m\n",
      "      \u001b[1;39m}\u001b[0m\u001b[1;39m,\n",
      "      \u001b[0m\u001b[34;1m\"fingerprint\"\u001b[0m\u001b[1;39m: \u001b[0m\u001b[0;32m\"E3:74:8C:75:ED:6D:D4:05:3B:90:36:6E:45:E8:C5:66:2C:D1:D8:AC\"\u001b[0m\u001b[1;39m,\n",
      "      \u001b[0m\u001b[34;1m\"not_after\"\u001b[0m\u001b[1;39m: \u001b[0m\u001b[0;39m1573252350\u001b[0m\u001b[1;39m,\n",
      "      \u001b[0m\u001b[34;1m\"not_before\"\u001b[0m\u001b[1;39m: \u001b[0m\u001b[0;39m1565476350\u001b[0m\u001b[1;39m,\n",
      "      \u001b[0m\u001b[34;1m\"serial_number\"\u001b[0m\u001b[1;39m: \u001b[0m\u001b[0;32m\"4D328EEB65966A46483040DB9714400409C\"\u001b[0m\u001b[1;39m,\n",
      "      \u001b[0m\u001b[34;1m\"subject\"\u001b[0m\u001b[1;39m: \u001b[0m\u001b[1;39m{\n",
      "        \u001b[0m\u001b[34;1m\"C\"\u001b[0m\u001b[1;39m: \u001b[0m\u001b[1;30mnull\u001b[0m\u001b[1;39m,\n",
      "        \u001b[0m\u001b[34;1m\"CN\"\u001b[0m\u001b[1;39m: \u001b[0m\u001b[0;32m\"chilipines.com\"\u001b[0m\u001b[1;39m,\n",
      "        \u001b[0m\u001b[34;1m\"L\"\u001b[0m\u001b[1;39m: \u001b[0m\u001b[1;30mnull\u001b[0m\u001b[1;39m,\n",
      "        \u001b[0m\u001b[34;1m\"O\"\u001b[0m\u001b[1;39m: \u001b[0m\u001b[1;30mnull\u001b[0m\u001b[1;39m,\n",
      "        \u001b[0m\u001b[34;1m\"OU\"\u001b[0m\u001b[1;39m: \u001b[0m\u001b[1;30mnull\u001b[0m\u001b[1;39m,\n",
      "        \u001b[0m\u001b[34;1m\"ST\"\u001b[0m\u001b[1;39m: \u001b[0m\u001b[1;30mnull\u001b[0m\u001b[1;39m,\n",
      "        \u001b[0m\u001b[34;1m\"aggregated\"\u001b[0m\u001b[1;39m: \u001b[0m\u001b[0;32m\"/CN=chilipines.com\"\u001b[0m\u001b[1;39m\n",
      "      \u001b[1;39m}\u001b[0m\u001b[1;39m\n",
      "    \u001b[1;39m}\u001b[0m\u001b[1;39m,\n",
      "    \u001b[0m\u001b[34;1m\"seen\"\u001b[0m\u001b[1;39m: \u001b[0m\u001b[0;39m1565480025.856629\u001b[0m\u001b[1;39m,\n",
      "    \u001b[0m\u001b[34;1m\"source\"\u001b[0m\u001b[1;39m: \u001b[0m\u001b[1;39m{\n",
      "      \u001b[0m\u001b[34;1m\"name\"\u001b[0m\u001b[1;39m: \u001b[0m\u001b[0;32m\"Google 'Argon2019' log\"\u001b[0m\u001b[1;39m,\n",
      "      \u001b[0m\u001b[34;1m\"url\"\u001b[0m\u001b[1;39m: \u001b[0m\u001b[0;32m\"ct.googleapis.com/logs/argon2019/\"\u001b[0m\u001b[1;39m\n",
      "    \u001b[1;39m}\u001b[0m\u001b[1;39m,\n",
      "    \u001b[0m\u001b[34;1m\"update_type\"\u001b[0m\u001b[1;39m: \u001b[0m\u001b[0;32m\"X509LogEntry\"\u001b[0m\u001b[1;39m\n",
      "  \u001b[1;39m}\u001b[0m\u001b[1;39m,\n",
      "  \u001b[0m\u001b[34;1m\"message_type\"\u001b[0m\u001b[1;39m: \u001b[0m\u001b[0;32m\"certificate_update\"\u001b[0m\u001b[1;39m\n",
      "\u001b[1;39m}\u001b[0m\n"
     ]
    }
   ],
   "source": [
    "!head -n 1 ctl_records_sample.jsonlines | jq ."
   ]
  },
  {
   "cell_type": "markdown",
   "metadata": {},
   "source": [
    "Import data into DuckDB"
   ]
  },
  {
   "cell_type": "code",
   "execution_count": 4,
   "metadata": {},
   "outputs": [],
   "source": [
    "con = duckdb.connect(\"data.duckdb\")"
   ]
  },
  {
   "cell_type": "code",
   "execution_count": 5,
   "metadata": {},
   "outputs": [
    {
     "data": {
      "text/plain": [
       "<duckdb.duckdb.DuckDBPyConnection at 0x76e32d7fce30>"
      ]
     },
     "execution_count": 5,
     "metadata": {},
     "output_type": "execute_result"
    }
   ],
   "source": [
    "con.execute(\n",
    "    \"\"\"\n",
    "    CREATE TABLE ctl_records AS \n",
    "    SELECT * FROM read_ndjson_auto('ctl_records_sample.jsonlines', union_by_name=true)\n",
    "    \"\"\"\n",
    ")"
   ]
  },
  {
   "cell_type": "markdown",
   "metadata": {},
   "source": [
    "Verify imported correctly"
   ]
  },
  {
   "cell_type": "code",
   "execution_count": 6,
   "metadata": {},
   "outputs": [
    {
     "data": {
      "text/plain": [
       "┌──────────────┐\n",
       "│ count_star() │\n",
       "│    int64     │\n",
       "├──────────────┤\n",
       "│      4000000 │\n",
       "└──────────────┘"
      ]
     },
     "execution_count": 6,
     "metadata": {},
     "output_type": "execute_result"
    }
   ],
   "source": [
    "con.sql(\"SELECT COUNT(*) FROM ctl_records\")"
   ]
  },
  {
   "cell_type": "code",
   "execution_count": 7,
   "metadata": {},
   "outputs": [
    {
     "data": {
      "text/plain": [
       "┌──────────────┬───────────────────────────────────────────────────────────────┬─────────┬─────────┬─────────┬─────────┐\n",
       "│ column_name  │                          column_type                          │  null   │   key   │ default │  extra  │\n",
       "│   varchar    │                            varchar                            │ varchar │ varchar │ varchar │ varchar │\n",
       "├──────────────┼───────────────────────────────────────────────────────────────┼─────────┼─────────┼─────────┼─────────┤\n",
       "│ data         │ STRUCT(cert_index BIGINT, cert_link VARCHAR, \"chain\" STRUCT…  │ YES     │ NULL    │ NULL    │ NULL    │\n",
       "│ message_type │ VARCHAR                                                       │ YES     │ NULL    │ NULL    │ NULL    │\n",
       "└──────────────┴───────────────────────────────────────────────────────────────┴─────────┴─────────┴─────────┴─────────┘"
      ]
     },
     "execution_count": 7,
     "metadata": {},
     "output_type": "execute_result"
    }
   ],
   "source": [
    "con.sql(\"DESCRIBE ctl_records\")"
   ]
  },
  {
   "cell_type": "code",
   "execution_count": 8,
   "metadata": {},
   "outputs": [
    {
     "data": {
      "text/plain": [
       "┌────────────────────┬──────────────┐\n",
       "│    message_type    │ count_star() │\n",
       "│      varchar       │    int64     │\n",
       "├────────────────────┼──────────────┤\n",
       "│ certificate_update │      4000000 │\n",
       "└────────────────────┴──────────────┘"
      ]
     },
     "execution_count": 8,
     "metadata": {},
     "output_type": "execute_result"
    }
   ],
   "source": [
    "con.sql(\"SELECT message_type, COUNT(*) FROM ctl_records GROUP BY message_type\")"
   ]
  },
  {
   "cell_type": "markdown",
   "metadata": {},
   "source": [
    "Notice that all `message_type` are the same, would like to unnest `data` at least 1 layer"
   ]
  },
  {
   "cell_type": "code",
   "execution_count": 9,
   "metadata": {},
   "outputs": [
    {
     "name": "stdout",
     "output_type": "stream",
     "text": [
      "\u001b[1;39m[\n",
      "  \u001b[0;32m\"cert_index\"\u001b[0m\u001b[1;39m,\n",
      "  \u001b[0;32m\"cert_link\"\u001b[0m\u001b[1;39m,\n",
      "  \u001b[0;32m\"chain\"\u001b[0m\u001b[1;39m,\n",
      "  \u001b[0;32m\"leaf_cert\"\u001b[0m\u001b[1;39m,\n",
      "  \u001b[0;32m\"seen\"\u001b[0m\u001b[1;39m,\n",
      "  \u001b[0;32m\"source\"\u001b[0m\u001b[1;39m,\n",
      "  \u001b[0;32m\"update_type\"\u001b[0m\u001b[1;39m\n",
      "\u001b[1;39m]\u001b[0m\n"
     ]
    }
   ],
   "source": [
    "!head -n 1 ctl_records_sample.jsonlines | jq '.data | keys'"
   ]
  },
  {
   "cell_type": "code",
   "execution_count": 10,
   "metadata": {},
   "outputs": [
    {
     "data": {
      "text/plain": [
       "<duckdb.duckdb.DuckDBPyConnection at 0x76e32d7fce30>"
      ]
     },
     "execution_count": 10,
     "metadata": {},
     "output_type": "execute_result"
    }
   ],
   "source": [
    "con.execute(\n",
    "    \"\"\"\n",
    "    CREATE TABLE cert_data AS\n",
    "    SELECT \n",
    "        data.cert_index,\n",
    "        data.cert_link,\n",
    "        data.chain,\n",
    "        data.leaf_cert,\n",
    "        data.seen,\n",
    "        data.source,\n",
    "        data.update_type\n",
    "    FROM ctl_records\n",
    "    \"\"\"\n",
    ")"
   ]
  },
  {
   "cell_type": "code",
   "execution_count": 11,
   "metadata": {},
   "outputs": [
    {
     "data": {
      "text/plain": [
       "<duckdb.duckdb.DuckDBPyConnection at 0x76e32d7fce30>"
      ]
     },
     "execution_count": 11,
     "metadata": {},
     "output_type": "execute_result"
    }
   ],
   "source": [
    "con.execute(\"DROP TABLE ctl_records\")"
   ]
  },
  {
   "cell_type": "code",
   "execution_count": 12,
   "metadata": {},
   "outputs": [
    {
     "data": {
      "text/plain": [
       "┌─────────────┬────────────────────────────────────────────────────────────────┬─────────┬─────────┬─────────┬─────────┐\n",
       "│ column_name │                          column_type                           │  null   │   key   │ default │  extra  │\n",
       "│   varchar   │                            varchar                             │ varchar │ varchar │ varchar │ varchar │\n",
       "├─────────────┼────────────────────────────────────────────────────────────────┼─────────┼─────────┼─────────┼─────────┤\n",
       "│ cert_index  │ BIGINT                                                         │ YES     │ NULL    │ NULL    │ NULL    │\n",
       "│ cert_link   │ VARCHAR                                                        │ YES     │ NULL    │ NULL    │ NULL    │\n",
       "│ chain       │ STRUCT(as_der VARCHAR, \"extensions\" STRUCT(authorityInfoAcce…  │ YES     │ NULL    │ NULL    │ NULL    │\n",
       "│ leaf_cert   │ STRUCT(all_domains VARCHAR[], as_der VARCHAR, \"extensions\" S…  │ YES     │ NULL    │ NULL    │ NULL    │\n",
       "│ seen        │ DOUBLE                                                         │ YES     │ NULL    │ NULL    │ NULL    │\n",
       "│ source      │ STRUCT(\"name\" VARCHAR, url VARCHAR)                            │ YES     │ NULL    │ NULL    │ NULL    │\n",
       "│ update_type │ VARCHAR                                                        │ YES     │ NULL    │ NULL    │ NULL    │\n",
       "└─────────────┴────────────────────────────────────────────────────────────────┴─────────┴─────────┴─────────┴─────────┘"
      ]
     },
     "execution_count": 12,
     "metadata": {},
     "output_type": "execute_result"
    }
   ],
   "source": [
    "con.sql(\"DESCRIBE cert_data\")"
   ]
  },
  {
   "cell_type": "code",
   "execution_count": 13,
   "metadata": {},
   "outputs": [
    {
     "data": {
      "text/plain": [
       "┌─────────────────┬──────────────┐\n",
       "│   update_type   │ count_star() │\n",
       "│     varchar     │    int64     │\n",
       "├─────────────────┼──────────────┤\n",
       "│ X509LogEntry    │      1882291 │\n",
       "│ PrecertLogEntry │      2117709 │\n",
       "└─────────────────┴──────────────┘"
      ]
     },
     "execution_count": 13,
     "metadata": {},
     "output_type": "execute_result"
    }
   ],
   "source": [
    "con.sql(\"SELECT update_type, COUNT(*) FROM cert_data GROUP BY update_type\")"
   ]
  },
  {
   "cell_type": "markdown",
   "metadata": {},
   "source": [
    "From here we'll load only a few things we'll need into a Polars dataframe.\n",
    "\n",
    "We're extracting the common name (`CN`) from the certificate and the issuer, since that is what is least likely to be null.\n",
    "\n",
    "I'm also grabbing the first entry in the `chain` field, because from what I understand, the first in the chain is the one that directly issued the certificate.\n",
    "\n",
    "Note that nested arrays in DuckDB are 1-indexed."
   ]
  },
  {
   "cell_type": "code",
   "execution_count": 14,
   "metadata": {},
   "outputs": [],
   "source": [
    "df = con.execute(\n",
    "    \"\"\"\n",
    "    SELECT\n",
    "        leaf_cert.fingerprint,\n",
    "        leaf_cert.all_domains,\n",
    "        leaf_cert.subject.CN,\n",
    "        chain[1].subject.CN AS issuer\n",
    "    FROM cert_data\n",
    "    \"\"\"\n",
    ").pl()"
   ]
  },
  {
   "cell_type": "code",
   "execution_count": 15,
   "metadata": {},
   "outputs": [
    {
     "data": {
      "text/html": [
       "<div><style>\n",
       ".dataframe > thead > tr,\n",
       ".dataframe > tbody > tr {\n",
       "  text-align: right;\n",
       "  white-space: pre-wrap;\n",
       "}\n",
       "</style>\n",
       "<small>shape: (1, 4)</small><table border=\"1\" class=\"dataframe\"><thead><tr><th>fingerprint</th><th>all_domains</th><th>CN</th><th>issuer</th></tr><tr><td>u32</td><td>u32</td><td>u32</td><td>u32</td></tr></thead><tbody><tr><td>4000000</td><td>4000000</td><td>3982630</td><td>3999942</td></tr></tbody></table></div>"
      ],
      "text/plain": [
       "shape: (1, 4)\n",
       "┌─────────────┬─────────────┬─────────┬─────────┐\n",
       "│ fingerprint ┆ all_domains ┆ CN      ┆ issuer  │\n",
       "│ ---         ┆ ---         ┆ ---     ┆ ---     │\n",
       "│ u32         ┆ u32         ┆ u32     ┆ u32     │\n",
       "╞═════════════╪═════════════╪═════════╪═════════╡\n",
       "│ 4000000     ┆ 4000000     ┆ 3982630 ┆ 3999942 │\n",
       "└─────────────┴─────────────┴─────────┴─────────┘"
      ]
     },
     "execution_count": 15,
     "metadata": {},
     "output_type": "execute_result"
    }
   ],
   "source": [
    "df.count()"
   ]
  },
  {
   "cell_type": "markdown",
   "metadata": {},
   "source": [
    "We see that a few of our common names from our certs and our issuers are null"
   ]
  },
  {
   "cell_type": "code",
   "execution_count": 16,
   "metadata": {},
   "outputs": [
    {
     "data": {
      "text/plain": [
       "┌──────────────────────────────────────────────────────────────────────────────────────────────────────────────────────┐\n",
       "│                                                       subject                                                        │\n",
       "│           struct(c varchar, cn varchar, l varchar, o varchar, ou varchar, st varchar, aggregated varchar)            │\n",
       "├──────────────────────────────────────────────────────────────────────────────────────────────────────────────────────┤\n",
       "│ {'C': GB, 'CN': NULL, 'L': London, 'O': Google Certificate Transparency, 'OU': NULL, 'ST': NULL, 'aggregated': /C=…  │\n",
       "│ {'C': NULL, 'CN': NULL, 'L': NULL, 'O': NULL, 'OU': NULL, 'ST': NULL, 'aggregated': /}                               │\n",
       "│ {'C': NULL, 'CN': NULL, 'L': NULL, 'O': NULL, 'OU': PositiveSSL Multi-Domain, 'ST': NULL, 'aggregated': /OU=Positi…  │\n",
       "│ {'C': US, 'CN': NULL, 'L': Mountain View, 'O': Google LLC, 'OU': NULL, 'ST': California, 'aggregated': /C=US/L=Mou…  │\n",
       "└──────────────────────────────────────────────────────────────────────────────────────────────────────────────────────┘"
      ]
     },
     "execution_count": 16,
     "metadata": {},
     "output_type": "execute_result"
    }
   ],
   "source": [
    "con.sql(\n",
    "    \"SELECT DISTINCT leaf_cert.subject FROM cert_data WHERE leaf_cert.subject.CN IS NULL\"\n",
    ")"
   ]
  },
  {
   "cell_type": "code",
   "execution_count": 17,
   "metadata": {},
   "outputs": [
    {
     "data": {
      "text/plain": [
       "┌──────────────────────────────────────────────────────────────────────────────────────────────────────────────────────┐\n",
       "│                                                 (\"chain\"[1]).subject                                                 │\n",
       "│           struct(c varchar, cn varchar, l varchar, o varchar, ou varchar, st varchar, aggregated varchar)            │\n",
       "├──────────────────────────────────────────────────────────────────────────────────────────────────────────────────────┤\n",
       "│ {'C': TW, 'CN': NULL, 'L': NULL, 'O': Chunghwa Telecom Co., Ltd., 'OU': Public Certification Authority - G2, 'ST':…  │\n",
       "│ {'C': GB, 'CN': NULL, 'L': London, 'O': Google Certificate Transparency (Precert Signing), 'OU': NULL, 'ST': NULL,…  │\n",
       "│ {'C': TW, 'CN': NULL, 'L': NULL, 'O': 行政院, 'OU': 政府憑證管理中心, 'ST': NULL, 'aggregated': /C=TW/O=行政院/OU=…  │\n",
       "└──────────────────────────────────────────────────────────────────────────────────────────────────────────────────────┘"
      ]
     },
     "execution_count": 17,
     "metadata": {},
     "output_type": "execute_result"
    }
   ],
   "source": [
    "con.sql(\n",
    "    \"select distinct chain[1].subject FROM cert_data WHERE chain[1].subject.CN IS NULL\"\n",
    ")"
   ]
  },
  {
   "cell_type": "markdown",
   "metadata": {},
   "source": [
    "We'll drop the rows that have null values.\n",
    "\n",
    "It's also a good time to de-dupe our data, so our counts don't get skewed later on."
   ]
  },
  {
   "cell_type": "code",
   "execution_count": 18,
   "metadata": {},
   "outputs": [
    {
     "data": {
      "text/html": [
       "<div><style>\n",
       ".dataframe > thead > tr,\n",
       ".dataframe > tbody > tr {\n",
       "  text-align: right;\n",
       "  white-space: pre-wrap;\n",
       "}\n",
       "</style>\n",
       "<small>shape: (1, 4)</small><table border=\"1\" class=\"dataframe\"><thead><tr><th>fingerprint</th><th>all_domains</th><th>CN</th><th>issuer</th></tr><tr><td>u32</td><td>u32</td><td>u32</td><td>u32</td></tr></thead><tbody><tr><td>2928605</td><td>2928605</td><td>2928605</td><td>2928605</td></tr></tbody></table></div>"
      ],
      "text/plain": [
       "shape: (1, 4)\n",
       "┌─────────────┬─────────────┬─────────┬─────────┐\n",
       "│ fingerprint ┆ all_domains ┆ CN      ┆ issuer  │\n",
       "│ ---         ┆ ---         ┆ ---     ┆ ---     │\n",
       "│ u32         ┆ u32         ┆ u32     ┆ u32     │\n",
       "╞═════════════╪═════════════╪═════════╪═════════╡\n",
       "│ 2928605     ┆ 2928605     ┆ 2928605 ┆ 2928605 │\n",
       "└─────────────┴─────────────┴─────────┴─────────┘"
      ]
     },
     "execution_count": 18,
     "metadata": {},
     "output_type": "execute_result"
    }
   ],
   "source": [
    "df = df.drop_nulls()\n",
    "df = df.unique()\n",
    "df.count()"
   ]
  },
  {
   "cell_type": "markdown",
   "metadata": {},
   "source": [
    "Proof that fingerprints are unique after de-duplication:"
   ]
  },
  {
   "cell_type": "code",
   "execution_count": 19,
   "metadata": {},
   "outputs": [
    {
     "data": {
      "text/plain": [
       "True"
      ]
     },
     "execution_count": 19,
     "metadata": {},
     "output_type": "execute_result"
    }
   ],
   "source": [
    "df.select(\"fingerprint\").n_unique() == df.shape[0]"
   ]
  },
  {
   "cell_type": "code",
   "execution_count": 20,
   "metadata": {},
   "outputs": [
    {
     "data": {
      "text/html": [
       "<div><style>\n",
       ".dataframe > thead > tr,\n",
       ".dataframe > tbody > tr {\n",
       "  text-align: right;\n",
       "  white-space: pre-wrap;\n",
       "}\n",
       "</style>\n",
       "<small>shape: (2_928_605, 2)</small><table border=\"1\" class=\"dataframe\"><thead><tr><th>fingerprint</th><th>count</th></tr><tr><td>str</td><td>u32</td></tr></thead><tbody><tr><td>&quot;32:C6:0A:31:A3:BE:80:08:C2:A8:…</td><td>1</td></tr><tr><td>&quot;33:3F:73:81:98:2E:DE:F6:8C:6E:…</td><td>1</td></tr><tr><td>&quot;EE:2E:A4:2A:68:FF:0D:62:2C:6A:…</td><td>1</td></tr><tr><td>&quot;01:89:B5:E5:C9:F1:7B:4C:5E:0D:…</td><td>1</td></tr><tr><td>&quot;60:24:CB:97:34:04:09:02:8B:75:…</td><td>1</td></tr><tr><td>&hellip;</td><td>&hellip;</td></tr><tr><td>&quot;E3:6C:DB:76:87:28:1D:D9:C0:1B:…</td><td>1</td></tr><tr><td>&quot;D9:FA:4E:C3:0A:97:E1:9D:FA:DF:…</td><td>1</td></tr><tr><td>&quot;A6:AC:12:41:A4:46:A0:D2:15:A6:…</td><td>1</td></tr><tr><td>&quot;18:8A:C8:00:48:68:00:D2:8E:F9:…</td><td>1</td></tr><tr><td>&quot;25:83:8E:EB:34:44:36:13:5E:35:…</td><td>1</td></tr></tbody></table></div>"
      ],
      "text/plain": [
       "shape: (2_928_605, 2)\n",
       "┌─────────────────────────────────┬───────┐\n",
       "│ fingerprint                     ┆ count │\n",
       "│ ---                             ┆ ---   │\n",
       "│ str                             ┆ u32   │\n",
       "╞═════════════════════════════════╪═══════╡\n",
       "│ 32:C6:0A:31:A3:BE:80:08:C2:A8:… ┆ 1     │\n",
       "│ 33:3F:73:81:98:2E:DE:F6:8C:6E:… ┆ 1     │\n",
       "│ EE:2E:A4:2A:68:FF:0D:62:2C:6A:… ┆ 1     │\n",
       "│ 01:89:B5:E5:C9:F1:7B:4C:5E:0D:… ┆ 1     │\n",
       "│ 60:24:CB:97:34:04:09:02:8B:75:… ┆ 1     │\n",
       "│ …                               ┆ …     │\n",
       "│ E3:6C:DB:76:87:28:1D:D9:C0:1B:… ┆ 1     │\n",
       "│ D9:FA:4E:C3:0A:97:E1:9D:FA:DF:… ┆ 1     │\n",
       "│ A6:AC:12:41:A4:46:A0:D2:15:A6:… ┆ 1     │\n",
       "│ 18:8A:C8:00:48:68:00:D2:8E:F9:… ┆ 1     │\n",
       "│ 25:83:8E:EB:34:44:36:13:5E:35:… ┆ 1     │\n",
       "└─────────────────────────────────┴───────┘"
      ]
     },
     "execution_count": 20,
     "metadata": {},
     "output_type": "execute_result"
    }
   ],
   "source": [
    "df.group_by(\"fingerprint\").agg(pl.len().alias(\"count\")).sort(\n",
    "    by=pl.col(\"count\"), descending=True\n",
    ")"
   ]
  },
  {
   "cell_type": "markdown",
   "metadata": {},
   "source": [
    "A count of the different issuers, and their population percentage"
   ]
  },
  {
   "cell_type": "code",
   "execution_count": 21,
   "metadata": {},
   "outputs": [
    {
     "data": {
      "text/html": [
       "<div><style>\n",
       ".dataframe > thead > tr,\n",
       ".dataframe > tbody > tr {\n",
       "  text-align: right;\n",
       "  white-space: pre-wrap;\n",
       "}\n",
       "</style>\n",
       "<small>shape: (10, 3)</small><table border=\"1\" class=\"dataframe\"><thead><tr><th>issuer</th><th>total</th><th>percent</th></tr><tr><td>str</td><td>u32</td><td>f64</td></tr></thead><tbody><tr><td>&quot;Let&#x27;s Encrypt Authority X3&quot;</td><td>2241499</td><td>76.538113</td></tr><tr><td>&quot;cPanel, Inc. Certification Aut…</td><td>223862</td><td>7.643981</td></tr><tr><td>&quot;CloudFlare Inc ECC CA-2&quot;</td><td>151667</td><td>5.178814</td></tr><tr><td>&quot;Sectigo RSA Domain Validation …</td><td>77891</td><td>2.659662</td></tr><tr><td>&quot;Fake LE Intermediate X1&quot;</td><td>36528</td><td>1.247283</td></tr><tr><td>&quot;COMODO ECC Domain Validation S…</td><td>31234</td><td>1.066515</td></tr><tr><td>&quot;Go Daddy Secure Certificate Au…</td><td>24786</td><td>0.846342</td></tr><tr><td>&quot;CloudFlare Inc RSA CA-1&quot;</td><td>23639</td><td>0.807176</td></tr><tr><td>&quot;GTS CA 1O1&quot;</td><td>22482</td><td>0.767669</td></tr><tr><td>&quot;Plex Devices High Assurance CA…</td><td>16587</td><td>0.566379</td></tr></tbody></table></div>"
      ],
      "text/plain": [
       "shape: (10, 3)\n",
       "┌─────────────────────────────────┬─────────┬───────────┐\n",
       "│ issuer                          ┆ total   ┆ percent   │\n",
       "│ ---                             ┆ ---     ┆ ---       │\n",
       "│ str                             ┆ u32     ┆ f64       │\n",
       "╞═════════════════════════════════╪═════════╪═══════════╡\n",
       "│ Let's Encrypt Authority X3      ┆ 2241499 ┆ 76.538113 │\n",
       "│ cPanel, Inc. Certification Aut… ┆ 223862  ┆ 7.643981  │\n",
       "│ CloudFlare Inc ECC CA-2         ┆ 151667  ┆ 5.178814  │\n",
       "│ Sectigo RSA Domain Validation … ┆ 77891   ┆ 2.659662  │\n",
       "│ Fake LE Intermediate X1         ┆ 36528   ┆ 1.247283  │\n",
       "│ COMODO ECC Domain Validation S… ┆ 31234   ┆ 1.066515  │\n",
       "│ Go Daddy Secure Certificate Au… ┆ 24786   ┆ 0.846342  │\n",
       "│ CloudFlare Inc RSA CA-1         ┆ 23639   ┆ 0.807176  │\n",
       "│ GTS CA 1O1                      ┆ 22482   ┆ 0.767669  │\n",
       "│ Plex Devices High Assurance CA… ┆ 16587   ┆ 0.566379  │\n",
       "└─────────────────────────────────┴─────────┴───────────┘"
      ]
     },
     "execution_count": 21,
     "metadata": {},
     "output_type": "execute_result"
    }
   ],
   "source": [
    "total_counts = (\n",
    "    df.group_by(\"issuer\")\n",
    "    .agg(pl.len().alias(\"total\"))\n",
    "    .with_columns((pl.col(\"total\") / len(df) * 100).alias(\"percent\"))\n",
    ")\n",
    "total_counts.sort(\"total\", descending=True).head(10)"
   ]
  },
  {
   "cell_type": "markdown",
   "metadata": {},
   "source": [
    "It'll be easier to work with the domains if we unnest them from their `all_domains` column"
   ]
  },
  {
   "cell_type": "code",
   "execution_count": 22,
   "metadata": {},
   "outputs": [],
   "source": [
    "domains = df.explode(pl.col(\"all_domains\")).rename({\"all_domains\": \"full_domain\"})"
   ]
  },
  {
   "cell_type": "code",
   "execution_count": 23,
   "metadata": {},
   "outputs": [
    {
     "data": {
      "text/html": [
       "<div><style>\n",
       ".dataframe > thead > tr,\n",
       ".dataframe > tbody > tr {\n",
       "  text-align: right;\n",
       "  white-space: pre-wrap;\n",
       "}\n",
       "</style>\n",
       "<small>shape: (10, 4)</small><table border=\"1\" class=\"dataframe\"><thead><tr><th>fingerprint</th><th>full_domain</th><th>CN</th><th>issuer</th></tr><tr><td>str</td><td>str</td><td>str</td><td>str</td></tr></thead><tbody><tr><td>&quot;44:01:79:CC:CF:33:8C:C0:F1:A8:…</td><td>&quot;ods-observatoire.lab-123.com&quot;</td><td>&quot;ods-observatoire.org&quot;</td><td>&quot;cPanel, Inc. Certification Aut…</td></tr><tr><td>&quot;B2:76:B5:0A:12:BB:E7:90:C3:D4:…</td><td>&quot;www.acaiccristalina.com.br&quot;</td><td>&quot;acaiccristalina.com.br&quot;</td><td>&quot;Let&#x27;s Encrypt Authority X3&quot;</td></tr><tr><td>&quot;1A:D7:93:B6:5F:1B:02:09:75:DA:…</td><td>&quot;www.kidsyogaparty.com&quot;</td><td>&quot;kidsyogaparty.com&quot;</td><td>&quot;Let&#x27;s Encrypt Authority X3&quot;</td></tr><tr><td>&quot;BA:FA:7A:DD:3F:73:6C:44:F7:55:…</td><td>&quot;webmail.ktc613.com&quot;</td><td>&quot;ktc613.com&quot;</td><td>&quot;Let&#x27;s Encrypt Authority X3&quot;</td></tr><tr><td>&quot;C5:8D:73:28:9A:15:E1:C4:DE:A8:…</td><td>&quot;*.alannaysq.tk&quot;</td><td>&quot;sni162793.cloudflaressl.com&quot;</td><td>&quot;COMODO ECC Domain Validation S…</td></tr><tr><td>&quot;E1:75:70:8C:70:35:13:2D:0F:F5:…</td><td>&quot;www.havilahotelraftevold.no&quot;</td><td>&quot;havilahotelraftevold.no&quot;</td><td>&quot;Let&#x27;s Encrypt Authority X3&quot;</td></tr><tr><td>&quot;B5:25:E1:A9:DD:4C:DC:5A:30:D1:…</td><td>&quot;grafana.23wwc.online&quot;</td><td>&quot;grafana.23wwc.online&quot;</td><td>&quot;Let&#x27;s Encrypt Authority X3&quot;</td></tr><tr><td>&quot;9A:BB:3C:4F:E3:19:07:2D:3D:3E:…</td><td>&quot;webdisk.pokojispokoj.com.pl&quot;</td><td>&quot;pokojispokoj.com.pl&quot;</td><td>&quot;cPanel, Inc. Certification Aut…</td></tr><tr><td>&quot;19:67:4A:CE:5B:64:20:E3:89:D9:…</td><td>&quot;autodiscover.barbearia1950.com…</td><td>&quot;barbearia1950.com.br&quot;</td><td>&quot;Let&#x27;s Encrypt Authority X3&quot;</td></tr><tr><td>&quot;33:20:14:A8:9E:5A:8B:C9:6F:27:…</td><td>&quot;cpanel.methodoconsultoria.com.…</td><td>&quot;methodoconsultoria.com.br&quot;</td><td>&quot;Let&#x27;s Encrypt Authority X3&quot;</td></tr></tbody></table></div>"
      ],
      "text/plain": [
       "shape: (10, 4)\n",
       "┌─────────────────────────┬─────────────────────────┬─────────────────────────┬────────────────────┐\n",
       "│ fingerprint             ┆ full_domain             ┆ CN                      ┆ issuer             │\n",
       "│ ---                     ┆ ---                     ┆ ---                     ┆ ---                │\n",
       "│ str                     ┆ str                     ┆ str                     ┆ str                │\n",
       "╞═════════════════════════╪═════════════════════════╪═════════════════════════╪════════════════════╡\n",
       "│ 44:01:79:CC:CF:33:8C:C0 ┆ ods-observatoire.lab-12 ┆ ods-observatoire.org    ┆ cPanel, Inc.       │\n",
       "│ :F1:A8:…                ┆ 3.com                   ┆                         ┆ Certification Aut… │\n",
       "│ B2:76:B5:0A:12:BB:E7:90 ┆ www.acaiccristalina.com ┆ acaiccristalina.com.br  ┆ Let's Encrypt      │\n",
       "│ :C3:D4:…                ┆ .br                     ┆                         ┆ Authority X3       │\n",
       "│ 1A:D7:93:B6:5F:1B:02:09 ┆ www.kidsyogaparty.com   ┆ kidsyogaparty.com       ┆ Let's Encrypt      │\n",
       "│ :75:DA:…                ┆                         ┆                         ┆ Authority X3       │\n",
       "│ BA:FA:7A:DD:3F:73:6C:44 ┆ webmail.ktc613.com      ┆ ktc613.com              ┆ Let's Encrypt      │\n",
       "│ :F7:55:…                ┆                         ┆                         ┆ Authority X3       │\n",
       "│ C5:8D:73:28:9A:15:E1:C4 ┆ *.alannaysq.tk          ┆ sni162793.cloudflaressl ┆ COMODO ECC Domain  │\n",
       "│ :DE:A8:…                ┆                         ┆ .com                    ┆ Validation S…      │\n",
       "│ E1:75:70:8C:70:35:13:2D ┆ www.havilahotelraftevol ┆ havilahotelraftevold.no ┆ Let's Encrypt      │\n",
       "│ :0F:F5:…                ┆ d.no                    ┆                         ┆ Authority X3       │\n",
       "│ B5:25:E1:A9:DD:4C:DC:5A ┆ grafana.23wwc.online    ┆ grafana.23wwc.online    ┆ Let's Encrypt      │\n",
       "│ :30:D1:…                ┆                         ┆                         ┆ Authority X3       │\n",
       "│ 9A:BB:3C:4F:E3:19:07:2D ┆ webdisk.pokojispokoj.co ┆ pokojispokoj.com.pl     ┆ cPanel, Inc.       │\n",
       "│ :3D:3E:…                ┆ m.pl                    ┆                         ┆ Certification Aut… │\n",
       "│ 19:67:4A:CE:5B:64:20:E3 ┆ autodiscover.barbearia1 ┆ barbearia1950.com.br    ┆ Let's Encrypt      │\n",
       "│ :89:D9:…                ┆ 950.com…                ┆                         ┆ Authority X3       │\n",
       "│ 33:20:14:A8:9E:5A:8B:C9 ┆ cpanel.methodoconsultor ┆ methodoconsultoria.com. ┆ Let's Encrypt      │\n",
       "│ :6F:27:…                ┆ ia.com.…                ┆ br                      ┆ Authority X3       │\n",
       "└─────────────────────────┴─────────────────────────┴─────────────────────────┴────────────────────┘"
      ]
     },
     "execution_count": 23,
     "metadata": {},
     "output_type": "execute_result"
    }
   ],
   "source": [
    "domains.sample(10)"
   ]
  },
  {
   "cell_type": "markdown",
   "metadata": {},
   "source": [
    "We'll split the `full_domain` up into multiple columns: the TLD, domain, and the subdomain\n",
    "\n",
    "Instead of writing our own regex, we can leverage [tldextract](https://github.com/john-kurkowski/tldextract) to do the heavy lifting for us.\n",
    "\n",
    "Note from the README:\n",
    "\n",
    "> Beware when first calling tldextract, it updates its TLD list with a live HTTP request. This updated TLD set is usually cached indefinitely in `$HOME/.cache/python-tldextract`\n",
    "\n",
    "I'll make an initial call to `tldextract` so that the HTTP request isn't called when we're using it with our dataframe.\n",
    "\n",
    "Also leaving this here as a reminder to myself to remove that cache later"
   ]
  },
  {
   "cell_type": "code",
   "execution_count": 24,
   "metadata": {},
   "outputs": [
    {
     "data": {
      "text/plain": [
       "ExtractResult(subdomain='forums', domain='bbc-login', suffix='co.uk', is_private=False)"
      ]
     },
     "execution_count": 24,
     "metadata": {},
     "output_type": "execute_result"
    }
   ],
   "source": [
    "extract(\"http://forums.bbc-login.co.uk/\")"
   ]
  },
  {
   "cell_type": "code",
   "execution_count": 25,
   "metadata": {},
   "outputs": [],
   "source": [
    "domains = domains.with_columns(\n",
    "    pl.col(\"full_domain\")\n",
    "    .map_elements(lambda x: extract(x).suffix, return_dtype=pl.String)\n",
    "    .alias(\"TLD\"),\n",
    "    pl.col(\"full_domain\")\n",
    "    .map_elements(lambda x: extract(x).domain, return_dtype=pl.String)\n",
    "    .alias(\"domain\"),\n",
    "    pl.col(\"full_domain\")\n",
    "    .map_elements(lambda x: extract(x).subdomain, return_dtype=pl.String)\n",
    "    .alias(\"subdomain\"),\n",
    ")"
   ]
  },
  {
   "cell_type": "code",
   "execution_count": 26,
   "metadata": {},
   "outputs": [
    {
     "data": {
      "text/html": [
       "<div><style>\n",
       ".dataframe > thead > tr,\n",
       ".dataframe > tbody > tr {\n",
       "  text-align: right;\n",
       "  white-space: pre-wrap;\n",
       "}\n",
       "</style>\n",
       "<small>shape: (10, 7)</small><table border=\"1\" class=\"dataframe\"><thead><tr><th>fingerprint</th><th>full_domain</th><th>CN</th><th>issuer</th><th>TLD</th><th>domain</th><th>subdomain</th></tr><tr><td>str</td><td>str</td><td>str</td><td>str</td><td>str</td><td>str</td><td>str</td></tr></thead><tbody><tr><td>&quot;05:F4:5B:F8:0C:2A:82:9C:C1:4A:…</td><td>&quot;webmail.highr.ca&quot;</td><td>&quot;highr.ca&quot;</td><td>&quot;Let&#x27;s Encrypt Authority X3&quot;</td><td>&quot;ca&quot;</td><td>&quot;highr&quot;</td><td>&quot;webmail&quot;</td></tr><tr><td>&quot;8E:3E:C9:BB:C7:2F:FF:15:BE:1B:…</td><td>&quot;webmail.americanskullery.com&quot;</td><td>&quot;iloveparakeets.com&quot;</td><td>&quot;Let&#x27;s Encrypt Authority X3&quot;</td><td>&quot;com&quot;</td><td>&quot;americanskullery&quot;</td><td>&quot;webmail&quot;</td></tr><tr><td>&quot;3B:10:DE:18:B8:5A:24:8A:26:E0:…</td><td>&quot;kebabelcarmenjaen.com&quot;</td><td>&quot;kebabelcarmenjaen.com&quot;</td><td>&quot;Let&#x27;s Encrypt Authority X3&quot;</td><td>&quot;com&quot;</td><td>&quot;kebabelcarmenjaen&quot;</td><td>&quot;&quot;</td></tr><tr><td>&quot;D7:19:13:DE:43:B0:01:38:0B:15:…</td><td>&quot;www.ubben-busvermietung.de&quot;</td><td>&quot;www.ubben-busvermietung.de&quot;</td><td>&quot;Let&#x27;s Encrypt Authority X3&quot;</td><td>&quot;de&quot;</td><td>&quot;ubben-busvermietung&quot;</td><td>&quot;www&quot;</td></tr><tr><td>&quot;D9:79:A0:A3:E0:E3:4C:C4:0C:57:…</td><td>&quot;webserver.naskot.fr&quot;</td><td>&quot;webserver.naskot.fr&quot;</td><td>&quot;Let&#x27;s Encrypt Authority X3&quot;</td><td>&quot;fr&quot;</td><td>&quot;naskot&quot;</td><td>&quot;webserver&quot;</td></tr><tr><td>&quot;08:09:E6:27:2C:9C:69:33:F8:FE:…</td><td>&quot;www.clinicadramigo.com.br&quot;</td><td>&quot;clinicadramigo.com.br&quot;</td><td>&quot;Let&#x27;s Encrypt Authority X3&quot;</td><td>&quot;com.br&quot;</td><td>&quot;clinicadramigo&quot;</td><td>&quot;www&quot;</td></tr><tr><td>&quot;CE:E2:30:09:7F:71:14:60:6E:8B:…</td><td>&quot;tachi-intl.com&quot;</td><td>&quot;tachi-intl.com&quot;</td><td>&quot;Let&#x27;s Encrypt Authority X3&quot;</td><td>&quot;com&quot;</td><td>&quot;tachi-intl&quot;</td><td>&quot;&quot;</td></tr><tr><td>&quot;72:E0:E0:5C:C9:2C:46:A3:21:40:…</td><td>&quot;cpanel.767sf.mx&quot;</td><td>&quot;767sf.mx&quot;</td><td>&quot;Let&#x27;s Encrypt Authority X3&quot;</td><td>&quot;mx&quot;</td><td>&quot;767sf&quot;</td><td>&quot;cpanel&quot;</td></tr><tr><td>&quot;03:EA:B6:6B:F7:54:90:E3:13:29:…</td><td>&quot;*.uptownbuymybag.com&quot;</td><td>&quot;sni194950.cloudflaressl.com&quot;</td><td>&quot;COMODO ECC Domain Validation S…</td><td>&quot;com&quot;</td><td>&quot;uptownbuymybag&quot;</td><td>&quot;*&quot;</td></tr><tr><td>&quot;E8:2F:FB:73:C2:49:32:B9:71:79:…</td><td>&quot;mail.iqra.com.pk&quot;</td><td>&quot;iqra.com.pk&quot;</td><td>&quot;cPanel, Inc. Certification Aut…</td><td>&quot;com.pk&quot;</td><td>&quot;iqra&quot;</td><td>&quot;mail&quot;</td></tr></tbody></table></div>"
      ],
      "text/plain": [
       "shape: (10, 7)\n",
       "┌───────────────┬───────────────┬───────────────┬──────────────┬────────┬──────────────┬───────────┐\n",
       "│ fingerprint   ┆ full_domain   ┆ CN            ┆ issuer       ┆ TLD    ┆ domain       ┆ subdomain │\n",
       "│ ---           ┆ ---           ┆ ---           ┆ ---          ┆ ---    ┆ ---          ┆ ---       │\n",
       "│ str           ┆ str           ┆ str           ┆ str          ┆ str    ┆ str          ┆ str       │\n",
       "╞═══════════════╪═══════════════╪═══════════════╪══════════════╪════════╪══════════════╪═══════════╡\n",
       "│ 05:F4:5B:F8:0 ┆ webmail.highr ┆ highr.ca      ┆ Let's        ┆ ca     ┆ highr        ┆ webmail   │\n",
       "│ C:2A:82:9C:C1 ┆ .ca           ┆               ┆ Encrypt      ┆        ┆              ┆           │\n",
       "│ :4A:…         ┆               ┆               ┆ Authority X3 ┆        ┆              ┆           │\n",
       "│ 8E:3E:C9:BB:C ┆ webmail.ameri ┆ iloveparakeet ┆ Let's        ┆ com    ┆ americanskul ┆ webmail   │\n",
       "│ 7:2F:FF:15:BE ┆ canskullery.c ┆ s.com         ┆ Encrypt      ┆        ┆ lery         ┆           │\n",
       "│ :1B:…         ┆ om            ┆               ┆ Authority X3 ┆        ┆              ┆           │\n",
       "│ 3B:10:DE:18:B ┆ kebabelcarmen ┆ kebabelcarmen ┆ Let's        ┆ com    ┆ kebabelcarme ┆           │\n",
       "│ 8:5A:24:8A:26 ┆ jaen.com      ┆ jaen.com      ┆ Encrypt      ┆        ┆ njaen        ┆           │\n",
       "│ :E0:…         ┆               ┆               ┆ Authority X3 ┆        ┆              ┆           │\n",
       "│ D7:19:13:DE:4 ┆ www.ubben-bus ┆ www.ubben-bus ┆ Let's        ┆ de     ┆ ubben-busver ┆ www       │\n",
       "│ 3:B0:01:38:0B ┆ vermietung.de ┆ vermietung.de ┆ Encrypt      ┆        ┆ mietung      ┆           │\n",
       "│ :15:…         ┆               ┆               ┆ Authority X3 ┆        ┆              ┆           │\n",
       "│ D9:79:A0:A3:E ┆ webserver.nas ┆ webserver.nas ┆ Let's        ┆ fr     ┆ naskot       ┆ webserver │\n",
       "│ 0:E3:4C:C4:0C ┆ kot.fr        ┆ kot.fr        ┆ Encrypt      ┆        ┆              ┆           │\n",
       "│ :57:…         ┆               ┆               ┆ Authority X3 ┆        ┆              ┆           │\n",
       "│ 08:09:E6:27:2 ┆ www.clinicadr ┆ clinicadramig ┆ Let's        ┆ com.br ┆ clinicadrami ┆ www       │\n",
       "│ C:9C:69:33:F8 ┆ amigo.com.br  ┆ o.com.br      ┆ Encrypt      ┆        ┆ go           ┆           │\n",
       "│ :FE:…         ┆               ┆               ┆ Authority X3 ┆        ┆              ┆           │\n",
       "│ CE:E2:30:09:7 ┆ tachi-intl.co ┆ tachi-intl.co ┆ Let's        ┆ com    ┆ tachi-intl   ┆           │\n",
       "│ F:71:14:60:6E ┆ m             ┆ m             ┆ Encrypt      ┆        ┆              ┆           │\n",
       "│ :8B:…         ┆               ┆               ┆ Authority X3 ┆        ┆              ┆           │\n",
       "│ 72:E0:E0:5C:C ┆ cpanel.767sf. ┆ 767sf.mx      ┆ Let's        ┆ mx     ┆ 767sf        ┆ cpanel    │\n",
       "│ 9:2C:46:A3:21 ┆ mx            ┆               ┆ Encrypt      ┆        ┆              ┆           │\n",
       "│ :40:…         ┆               ┆               ┆ Authority X3 ┆        ┆              ┆           │\n",
       "│ 03:EA:B6:6B:F ┆ *.uptownbuymy ┆ sni194950.clo ┆ COMODO ECC   ┆ com    ┆ uptownbuymyb ┆ *         │\n",
       "│ 7:54:90:E3:13 ┆ bag.com       ┆ udflaressl.co ┆ Domain       ┆        ┆ ag           ┆           │\n",
       "│ :29:…         ┆               ┆ m             ┆ Validation   ┆        ┆              ┆           │\n",
       "│               ┆               ┆               ┆ S…           ┆        ┆              ┆           │\n",
       "│ E8:2F:FB:73:C ┆ mail.iqra.com ┆ iqra.com.pk   ┆ cPanel, Inc. ┆ com.pk ┆ iqra         ┆ mail      │\n",
       "│ 2:49:32:B9:71 ┆ .pk           ┆               ┆ Certificatio ┆        ┆              ┆           │\n",
       "│ :79:…         ┆               ┆               ┆ n Aut…       ┆        ┆              ┆           │\n",
       "└───────────────┴───────────────┴───────────────┴──────────────┴────────┴──────────────┴───────────┘"
      ]
     },
     "execution_count": 26,
     "metadata": {},
     "output_type": "execute_result"
    }
   ],
   "source": [
    "domains.sample(10)"
   ]
  },
  {
   "cell_type": "markdown",
   "metadata": {},
   "source": [
    "As you mentioned, one way we can try and find phishing domains is by taking a frequently exploited service or keyword and search for ones with a small edit-distance.\n",
    "\n",
    "I'll use [another library](https://github.com/roy-ht/editdistance) for this; we could write our own edit-distance function, but this is written in C++ with Cython, so it's probably more performant when aggregrating over our dataframe"
   ]
  },
  {
   "cell_type": "code",
   "execution_count": 27,
   "metadata": {},
   "outputs": [
    {
     "data": {
      "text/plain": [
       "['facebok.space',\n",
       " '*.twittev.info',\n",
       " 'facabook.men',\n",
       " '*.apply.agency',\n",
       " 'blog.facebook.web.id',\n",
       " 'facebook.web.id',\n",
       " 'autodiscover.paynal.com',\n",
       " 'webdisk.facebook.web.id',\n",
       " 'pacebook.co',\n",
       " 'cpanel.pple.io',\n",
       " '*.paypl.xyz',\n",
       " 'paipal.com.br',\n",
       " 'www.facebolk.nl',\n",
       " 'volumepurchaseprogram-uat-b.apple.com',\n",
       " 'pacebook.co',\n",
       " '*.apply.agency',\n",
       " 'cpanel.appe.org.br',\n",
       " 'ample.in',\n",
       " 'apply.agency',\n",
       " 'myaccess-mdn.apple.com']"
      ]
     },
     "execution_count": 27,
     "metadata": {},
     "output_type": "execute_result"
    }
   ],
   "source": [
    "def check_edit_distance(x):\n",
    "    keywords = [\"apple\", \"paypal\", \"facebook\", \"twitter\"]\n",
    "    return any(editdistance.eval(x, keyword) < 2 for keyword in keywords)\n",
    "\n",
    "\n",
    "domains.filter(\n",
    "    pl.col(\"domain\").map_elements(check_edit_distance, return_dtype=pl.Boolean)\n",
    ").select(\"full_domain\").sample(20).to_series().to_list()"
   ]
  },
  {
   "cell_type": "markdown",
   "metadata": {},
   "source": [
    "We can also search for highly nested keywords (in the subdomain)"
   ]
  },
  {
   "cell_type": "code",
   "execution_count": 28,
   "metadata": {},
   "outputs": [
    {
     "data": {
      "text/plain": [
       "['appleid.apple.com-securee-webvalid.com.ardianosta.com',\n",
       " 'www.myaccountpaypal.summary.verificationclock.startxpo.com',\n",
       " 'admin.www.facebook33.com.serveo.net',\n",
       " 'mail.support.appleid.apple.authenticationkeyidmsa.com',\n",
       " 'www.service.paypal.com.checkout30.com',\n",
       " '*.stats.paypal.com.admin-us.cas.ms',\n",
       " 'www.facebook.23.com.serveo.net',\n",
       " 'mail.peterbanksphotoworks.co.uk.pineapple.temporarywebsiteaddress.com',\n",
       " '*.work-16314996.facebook.com.rs2.cas.ms',\n",
       " 'paypal.com.activation.account.verification.lcsimportexport.com.br',\n",
       " 'manage.apple.com-us.secureaccesslock-pageunlock343.cetrukl.com',\n",
       " 'www.iforgot.apple.com.locations-log.in',\n",
       " '*.mcastest9.facebook.com.us.cas.ms',\n",
       " 'www.secure.paypal.com.aussierulesrebirth.com',\n",
       " 'www.appleid.apple.ca.ios-icloud.net',\n",
       " 'mail.wvw.support.apple.eksentrisitasreply.net',\n",
       " '*.ak.facebook.com.us2.cas.ms',\n",
       " 'static.face.m.facebook.com.facebookcom.co.uk',\n",
       " 'al.www.facebook30.com.serveo.net',\n",
       " 'www.apple.com-payment.cancelnow.cancelorderapple.com']"
      ]
     },
     "execution_count": 28,
     "metadata": {},
     "output_type": "execute_result"
    }
   ],
   "source": [
    "domains.filter(\n",
    "    (pl.col(\"subdomain\").str.count_matches(r\"\\.\") > 2)\n",
    "    & (pl.col(\"subdomain\").str.contains_any([\"apple\", \"paypal\", \"facebook\", \"twitter\"]))\n",
    ").select(\"full_domain\").sample(20).to_series().to_list()"
   ]
  },
  {
   "cell_type": "markdown",
   "metadata": {},
   "source": [
    "We can put both of these together to come up with a small sample of potential phishing domains:"
   ]
  },
  {
   "cell_type": "code",
   "execution_count": 29,
   "metadata": {},
   "outputs": [],
   "source": [
    "sample = domains.filter(\n",
    "    (pl.col(\"domain\").map_elements(check_edit_distance, return_dtype=pl.Boolean))\n",
    "    | (\n",
    "        (pl.col(\"subdomain\").str.count_matches(r\"\\.\") > 2)\n",
    "        & (\n",
    "            pl.col(\"subdomain\").str.contains_any(\n",
    "                [\"apple\", \"paypal\", \"facebook\", \"twitter\"]\n",
    "            )\n",
    "        )\n",
    "    )\n",
    ")"
   ]
  },
  {
   "cell_type": "code",
   "execution_count": 30,
   "metadata": {},
   "outputs": [
    {
     "data": {
      "text/plain": [
       "(539, 7)"
      ]
     },
     "execution_count": 30,
     "metadata": {},
     "output_type": "execute_result"
    }
   ],
   "source": [
    "sample.shape"
   ]
  },
  {
   "cell_type": "code",
   "execution_count": 31,
   "metadata": {},
   "outputs": [
    {
     "data": {
      "text/plain": [
       "270"
      ]
     },
     "execution_count": 31,
     "metadata": {},
     "output_type": "execute_result"
    }
   ],
   "source": [
    "sample.select(\"fingerprint\").n_unique()"
   ]
  },
  {
   "cell_type": "markdown",
   "metadata": {},
   "source": [
    "Certainly some suspicious domains:"
   ]
  },
  {
   "cell_type": "code",
   "execution_count": 32,
   "metadata": {},
   "outputs": [
    {
     "data": {
      "text/plain": [
       "['www.3apple.ru',\n",
       " 'www.appleid.apple.com-onlyaccount.bppqlah.org',\n",
       " 'www.appleid.apple.ca.ios-icloud.net',\n",
       " 'cpanel.support.appleid.apple.authenticationkeyidmsa.com',\n",
       " '*.www.vupload-edge.facebook.com.rs2.cas.ms',\n",
       " 'alterwind.www.facebookjesus.com.serveo.net',\n",
       " '*.dapple.com.my',\n",
       " 'webmail.sapple.co.in',\n",
       " 'peterbanksphotoworks.co.uk.pineapple.temporarywebsiteaddress.com',\n",
       " 'myaccess-as-a.corp.apple.com',\n",
       " 'www.myaccountpaypal.summary.verificationclock.startxpo.com',\n",
       " 'paypl.xyz',\n",
       " 'cpanel.updatepaypalaccountlimited.paypall.cc',\n",
       " 'www.infos.appleprotecte.fr-vweb.ni2915540-3.web20.nitrado.hosting',\n",
       " 'adkit.www.facebook1.com.serveo.net',\n",
       " 'mail.appe.org.br',\n",
       " '*.apply.in.th',\n",
       " 'mail.wvw.support.apple.eksentrisitasreply.net',\n",
       " 'syobunapp.appli.online',\n",
       " '*.workplace.facebook.com.us.cas.ms']"
      ]
     },
     "execution_count": 32,
     "metadata": {},
     "output_type": "execute_result"
    }
   ],
   "source": [
    "sample.select(\"full_domain\").sample(20).to_series().to_list()"
   ]
  },
  {
   "cell_type": "markdown",
   "metadata": {},
   "source": [
    "Counts of each TLD from our sample:"
   ]
  },
  {
   "cell_type": "code",
   "execution_count": 33,
   "metadata": {},
   "outputs": [
    {
     "data": {
      "text/html": [
       "<div><style>\n",
       ".dataframe > thead > tr,\n",
       ".dataframe > tbody > tr {\n",
       "  text-align: right;\n",
       "  white-space: pre-wrap;\n",
       "}\n",
       "</style>\n",
       "<small>shape: (10, 2)</small><table border=\"1\" class=\"dataframe\"><thead><tr><th>TLD</th><th>count</th></tr><tr><td>str</td><td>u32</td></tr></thead><tbody><tr><td>&quot;com&quot;</td><td>138</td></tr><tr><td>&quot;ms&quot;</td><td>86</td></tr><tr><td>&quot;net&quot;</td><td>72</td></tr><tr><td>&quot;web.id&quot;</td><td>20</td></tr><tr><td>&quot;co.uk&quot;</td><td>18</td></tr><tr><td>&quot;io&quot;</td><td>16</td></tr><tr><td>&quot;fr&quot;</td><td>15</td></tr><tr><td>&quot;org.br&quot;</td><td>14</td></tr><tr><td>&quot;srv.br&quot;</td><td>14</td></tr><tr><td>&quot;space&quot;</td><td>10</td></tr></tbody></table></div>"
      ],
      "text/plain": [
       "shape: (10, 2)\n",
       "┌────────┬───────┐\n",
       "│ TLD    ┆ count │\n",
       "│ ---    ┆ ---   │\n",
       "│ str    ┆ u32   │\n",
       "╞════════╪═══════╡\n",
       "│ com    ┆ 138   │\n",
       "│ ms     ┆ 86    │\n",
       "│ net    ┆ 72    │\n",
       "│ web.id ┆ 20    │\n",
       "│ co.uk  ┆ 18    │\n",
       "│ io     ┆ 16    │\n",
       "│ fr     ┆ 15    │\n",
       "│ org.br ┆ 14    │\n",
       "│ srv.br ┆ 14    │\n",
       "│ space  ┆ 10    │\n",
       "└────────┴───────┘"
      ]
     },
     "execution_count": 33,
     "metadata": {},
     "output_type": "execute_result"
    }
   ],
   "source": [
    "sample.group_by(\"TLD\").agg(pl.len().alias(\"count\")).sort(\n",
    "    by=\"count\", descending=True\n",
    ").head(10)"
   ]
  },
  {
   "cell_type": "markdown",
   "metadata": {},
   "source": [
    "Counts of each issuer to these suspicious domains.\n",
    "\n",
    "When aggregating, we take the count of the unique fingerprints to count the number of certificates that were issued with suspicious domains (an authority could have issued a certificate with multiple suspicious domains; we're counting this as 1, rather than 1 for each domain)"
   ]
  },
  {
   "cell_type": "code",
   "execution_count": 34,
   "metadata": {},
   "outputs": [
    {
     "data": {
      "text/html": [
       "<div><style>\n",
       ".dataframe > thead > tr,\n",
       ".dataframe > tbody > tr {\n",
       "  text-align: right;\n",
       "  white-space: pre-wrap;\n",
       "}\n",
       "</style>\n",
       "<small>shape: (10, 2)</small><table border=\"1\" class=\"dataframe\"><thead><tr><th>issuer</th><th>suspicious_count</th></tr><tr><td>str</td><td>u32</td></tr></thead><tbody><tr><td>&quot;Let&#x27;s Encrypt Authority X3&quot;</td><td>135</td></tr><tr><td>&quot;cPanel, Inc. Certification Aut…</td><td>44</td></tr><tr><td>&quot;COMODO ECC Domain Validation S…</td><td>24</td></tr><tr><td>&quot;Microsoft IT TLS CA 2&quot;</td><td>18</td></tr><tr><td>&quot;Microsoft IT TLS CA 1&quot;</td><td>15</td></tr><tr><td>&quot;Microsoft IT TLS CA 5&quot;</td><td>14</td></tr><tr><td>&quot;Microsoft IT TLS CA 4&quot;</td><td>10</td></tr><tr><td>&quot;DigiCert SHA2 Extended Validat…</td><td>4</td></tr><tr><td>&quot;CloudFlare Inc ECC CA-2&quot;</td><td>3</td></tr><tr><td>&quot;Encryption Everywhere DV TLS C…</td><td>1</td></tr></tbody></table></div>"
      ],
      "text/plain": [
       "shape: (10, 2)\n",
       "┌─────────────────────────────────┬──────────────────┐\n",
       "│ issuer                          ┆ suspicious_count │\n",
       "│ ---                             ┆ ---              │\n",
       "│ str                             ┆ u32              │\n",
       "╞═════════════════════════════════╪══════════════════╡\n",
       "│ Let's Encrypt Authority X3      ┆ 135              │\n",
       "│ cPanel, Inc. Certification Aut… ┆ 44               │\n",
       "│ COMODO ECC Domain Validation S… ┆ 24               │\n",
       "│ Microsoft IT TLS CA 2           ┆ 18               │\n",
       "│ Microsoft IT TLS CA 1           ┆ 15               │\n",
       "│ Microsoft IT TLS CA 5           ┆ 14               │\n",
       "│ Microsoft IT TLS CA 4           ┆ 10               │\n",
       "│ DigiCert SHA2 Extended Validat… ┆ 4                │\n",
       "│ CloudFlare Inc ECC CA-2         ┆ 3                │\n",
       "│ Encryption Everywhere DV TLS C… ┆ 1                │\n",
       "└─────────────────────────────────┴──────────────────┘"
      ]
     },
     "execution_count": 34,
     "metadata": {},
     "output_type": "execute_result"
    }
   ],
   "source": [
    "issuers_suspicious_count = sample.group_by(\"issuer\").agg(\n",
    "    pl.col(\"fingerprint\").n_unique().alias(\"suspicious_count\")\n",
    ")\n",
    "issuers_suspicious_count.sort(by=\"suspicious_count\", descending=True).head(10)"
   ]
  },
  {
   "cell_type": "markdown",
   "metadata": {},
   "source": [
    "We see that `Let's Encrypt Authority X3` has a lot, but this could also be because they constituted ~76% of the original data.\n",
    "\n",
    "For better context, it's worth taking these counts and seeing how they compare to their total.\n",
    "\n",
    "Filter out those with a `suspicious_count` of 1 to block out noise\n",
    "\n"
   ]
  },
  {
   "cell_type": "code",
   "execution_count": 35,
   "metadata": {},
   "outputs": [
    {
     "data": {
      "text/html": [
       "<div><style>\n",
       ".dataframe > thead > tr,\n",
       ".dataframe > tbody > tr {\n",
       "  text-align: right;\n",
       "  white-space: pre-wrap;\n",
       "}\n",
       "</style>\n",
       "<small>shape: (9, 5)</small><table border=\"1\" class=\"dataframe\"><thead><tr><th>issuer</th><th>total</th><th>percent</th><th>suspicious_count</th><th>sus_pct</th></tr><tr><td>str</td><td>i64</td><td>f64</td><td>i64</td><td>f64</td></tr></thead><tbody><tr><td>&quot;DigiCert SHA2 Extended Validat…</td><td>127</td><td>0.004337</td><td>4</td><td>3.149606</td></tr><tr><td>&quot;Microsoft IT TLS CA 2&quot;</td><td>3524</td><td>0.12033</td><td>18</td><td>0.510783</td></tr><tr><td>&quot;Microsoft IT TLS CA 1&quot;</td><td>3554</td><td>0.121355</td><td>15</td><td>0.42206</td></tr><tr><td>&quot;Microsoft IT TLS CA 5&quot;</td><td>3508</td><td>0.119784</td><td>14</td><td>0.399088</td></tr><tr><td>&quot;Microsoft IT TLS CA 4&quot;</td><td>3430</td><td>0.117121</td><td>10</td><td>0.291545</td></tr><tr><td>&quot;COMODO ECC Domain Validation S…</td><td>31234</td><td>1.066515</td><td>24</td><td>0.076839</td></tr><tr><td>&quot;cPanel, Inc. Certification Aut…</td><td>223862</td><td>7.643981</td><td>44</td><td>0.019655</td></tr><tr><td>&quot;Let&#x27;s Encrypt Authority X3&quot;</td><td>2241499</td><td>76.538113</td><td>135</td><td>0.006023</td></tr><tr><td>&quot;CloudFlare Inc ECC CA-2&quot;</td><td>151667</td><td>5.178814</td><td>3</td><td>0.001978</td></tr></tbody></table></div>"
      ],
      "text/plain": [
       "shape: (9, 5)\n",
       "┌─────────────────────────────────┬─────────┬───────────┬──────────────────┬──────────┐\n",
       "│ issuer                          ┆ total   ┆ percent   ┆ suspicious_count ┆ sus_pct  │\n",
       "│ ---                             ┆ ---     ┆ ---       ┆ ---              ┆ ---      │\n",
       "│ str                             ┆ i64     ┆ f64       ┆ i64              ┆ f64      │\n",
       "╞═════════════════════════════════╪═════════╪═══════════╪══════════════════╪══════════╡\n",
       "│ DigiCert SHA2 Extended Validat… ┆ 127     ┆ 0.004337  ┆ 4                ┆ 3.149606 │\n",
       "│ Microsoft IT TLS CA 2           ┆ 3524    ┆ 0.12033   ┆ 18               ┆ 0.510783 │\n",
       "│ Microsoft IT TLS CA 1           ┆ 3554    ┆ 0.121355  ┆ 15               ┆ 0.42206  │\n",
       "│ Microsoft IT TLS CA 5           ┆ 3508    ┆ 0.119784  ┆ 14               ┆ 0.399088 │\n",
       "│ Microsoft IT TLS CA 4           ┆ 3430    ┆ 0.117121  ┆ 10               ┆ 0.291545 │\n",
       "│ COMODO ECC Domain Validation S… ┆ 31234   ┆ 1.066515  ┆ 24               ┆ 0.076839 │\n",
       "│ cPanel, Inc. Certification Aut… ┆ 223862  ┆ 7.643981  ┆ 44               ┆ 0.019655 │\n",
       "│ Let's Encrypt Authority X3      ┆ 2241499 ┆ 76.538113 ┆ 135              ┆ 0.006023 │\n",
       "│ CloudFlare Inc ECC CA-2         ┆ 151667  ┆ 5.178814  ┆ 3                ┆ 0.001978 │\n",
       "└─────────────────────────────────┴─────────┴───────────┴──────────────────┴──────────┘"
      ]
     },
     "execution_count": 35,
     "metadata": {},
     "output_type": "execute_result"
    }
   ],
   "source": [
    "res = (\n",
    "    total_counts.join(issuers_suspicious_count, on=\"issuer\", how=\"left\", coalesce=True)\n",
    "    .fill_null(0)\n",
    "    .with_columns((pl.col(\"suspicious_count\") / pl.col(\"total\") * 100).alias(\"sus_pct\"))\n",
    ")\n",
    "res.filter(pl.col(\"suspicious_count\") > 1).sort(by=pl.col(\"sus_pct\"), descending=True)"
   ]
  },
  {
   "cell_type": "code",
   "execution_count": 36,
   "metadata": {},
   "outputs": [],
   "source": [
    "con.close()"
   ]
  }
 ],
 "metadata": {
  "kernelspec": {
   "display_name": "env",
   "language": "python",
   "name": "python3"
  },
  "language_info": {
   "codemirror_mode": {
    "name": "ipython",
    "version": 3
   },
   "file_extension": ".py",
   "mimetype": "text/x-python",
   "name": "python",
   "nbconvert_exporter": "python",
   "pygments_lexer": "ipython3",
   "version": "3.12.4"
  }
 },
 "nbformat": 4,
 "nbformat_minor": 2
}
